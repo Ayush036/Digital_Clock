{
 "cells": [
  {
   "cell_type": "code",
   "execution_count": 26,
   "metadata": {},
   "outputs": [],
   "source": [
    "#importing the libraries\n",
    "from tkinter import Label,Tk\n",
    "import time\n",
    "\n",
    "\n",
    "\n",
    "#initialising and adding attributes to our tkiner object\n",
    "app=Tk()\n",
    "app.title(\"Clock\")\n",
    "app.geometry(\"400x200\")\n",
    "app.resizable(1,1)\n",
    "\n",
    "\n",
    "\n",
    "\n",
    "text_font= (\"Boulder\", 68, 'bold')\n",
    "background = \"#e6d800\"\n",
    "foreground= \"#363529\"\n",
    "border_width = 25\n",
    "\n",
    "\n",
    "\n",
    "\n",
    "#the label field where our time is shown \n",
    "label=Label(app,font=text_font, fg=foreground, bd=border_width,bg=background)\n",
    "label.grid(row=0,column=1)\n",
    "\n",
    "\n",
    "\n",
    "\n",
    "#creating a funtion for showing the current time\n",
    "def digital_clock():\n",
    "    live_time=time.strftime(\"%H:%M:%S\")\n",
    "    label.config(text=live_time)\n",
    "    label.after(200,digital_clock)\n",
    "\n",
    "    \n",
    "    \n",
    "digital_clock()\n",
    "app.mainloop()"
   ]
  }
 ],
 "metadata": {
  "kernelspec": {
   "display_name": "Python 3",
   "language": "python",
   "name": "python3"
  },
  "language_info": {
   "codemirror_mode": {
    "name": "ipython",
    "version": 3
   },
   "file_extension": ".py",
   "mimetype": "text/x-python",
   "name": "python",
   "nbconvert_exporter": "python",
   "pygments_lexer": "ipython3",
   "version": "3.8.3"
  }
 },
 "nbformat": 4,
 "nbformat_minor": 4
}
